{
 "cells": [
  {
   "cell_type": "code",
   "execution_count": 97,
   "metadata": {},
   "outputs": [],
   "source": [
    "import pandas as pd\n",
    "import numpy as np\n",
    "\n",
    "import matplotlib.pyplot as plt\n",
    "import seaborn as sns\n"
   ]
  },
  {
   "cell_type": "markdown",
   "metadata": {},
   "source": [
    "### Exercise 1.1\n",
    "\n",
    "Read in all data sets and inspect their basic properties.\n"
   ]
  },
  {
   "cell_type": "code",
   "execution_count": 98,
   "metadata": {},
   "outputs": [],
   "source": [
    "ATHLETES_PATH = \"../data/athletes.csv\"\n",
    "GAMES_PATH = \"../data/games.csv\"\n",
    "RESULTS_PATH = \"../data/results.xlsx\""
   ]
  },
  {
   "cell_type": "code",
   "execution_count": 99,
   "metadata": {},
   "outputs": [],
   "source": [
    "athletes_df = pd.read_csv(ATHLETES_PATH)\n",
    "games_df = pd.read_csv(GAMES_PATH,sep=\";\")\n",
    "\n",
    "xls = pd.ExcelFile(RESULTS_PATH)\n"
   ]
  },
  {
   "cell_type": "code",
   "execution_count": 100,
   "metadata": {},
   "outputs": [
    {
     "data": {
      "text/plain": [
       "['Year 2002', 'Year 2004', 'Year 2006', 'Year 2008', 'Year 2010', 'Year 2012']"
      ]
     },
     "execution_count": 100,
     "metadata": {},
     "output_type": "execute_result"
    }
   ],
   "source": [
    "xls.sheet_names"
   ]
  },
  {
   "cell_type": "code",
   "execution_count": 101,
   "metadata": {},
   "outputs": [
    {
     "name": "stdout",
     "output_type": "stream",
     "text": [
      "Year 2002\n",
      "Year 2004\n",
      "Year 2006\n",
      "Year 2008\n",
      "Year 2010\n",
      "Year 2012\n",
      "   Unnamed: 0 Unnamed: 1     Unnamed: 2           Unnamed: 3 Unnamed: 4  \\\n",
      "0  athlete_id     season          sport                event   position   \n",
      "1       13065     winter      Bobsleigh           Two, Women          7   \n",
      "2       13139     winter  Speed Skating  3,000 metres, Women         10   \n",
      "3       13139     winter  Speed Skating  5,000 metres, Women          3   \n",
      "4       68826     winter      Bobsleigh             Two, Men         10   \n",
      "\n",
      "  Unnamed: 5     Unnamed: 6    Unnamed: 7            Unnamed: 8  \n",
      "0      medal        country  country_code                  team  \n",
      "1        NaN          Italy           ITA  Gerda Weissensteiner  \n",
      "2        NaN         Canada           CAN                   NaN  \n",
      "3     Bronze         Canada           CAN                   NaN  \n",
      "4        NaN  Great Britain           GBR          Lee Johnston  \n"
     ]
    }
   ],
   "source": [
    "results_dfs = {}\n",
    "results_dataframe = pd.DataFrame()\n",
    "\n",
    "\n",
    "for sheet_name in xls.sheet_names:\n",
    "    results_dfs[sheet_name] = pd.read_excel(RESULTS_PATH, sheet_name=sheet_name)\n",
    "    print(sheet_name)\n",
    "    results_dataframe = pd.concat([results_dataframe, results_dfs[sheet_name]], axis=0, ignore_index=True)\n",
    "    results_dataframe.shape\n",
    "\n",
    "print(results_dataframe.head())"
   ]
  },
  {
   "cell_type": "code",
   "execution_count": 102,
   "metadata": {},
   "outputs": [
    {
     "name": "stdout",
     "output_type": "stream",
     "text": [
      "(52333, 9)\n"
     ]
    },
    {
     "data": {
      "text/html": [
       "<div>\n",
       "<style scoped>\n",
       "    .dataframe tbody tr th:only-of-type {\n",
       "        vertical-align: middle;\n",
       "    }\n",
       "\n",
       "    .dataframe tbody tr th {\n",
       "        vertical-align: top;\n",
       "    }\n",
       "\n",
       "    .dataframe thead th {\n",
       "        text-align: right;\n",
       "    }\n",
       "</style>\n",
       "<table border=\"1\" class=\"dataframe\">\n",
       "  <thead>\n",
       "    <tr style=\"text-align: right;\">\n",
       "      <th></th>\n",
       "      <th>athlete_id</th>\n",
       "      <th>season</th>\n",
       "      <th>sport</th>\n",
       "      <th>event</th>\n",
       "      <th>position</th>\n",
       "      <th>medal</th>\n",
       "      <th>country</th>\n",
       "      <th>country_code</th>\n",
       "      <th>team</th>\n",
       "    </tr>\n",
       "  </thead>\n",
       "  <tbody>\n",
       "    <tr>\n",
       "      <th>1</th>\n",
       "      <td>13065</td>\n",
       "      <td>winter</td>\n",
       "      <td>Bobsleigh</td>\n",
       "      <td>Two, Women</td>\n",
       "      <td>7</td>\n",
       "      <td>NaN</td>\n",
       "      <td>Italy</td>\n",
       "      <td>ITA</td>\n",
       "      <td>Gerda Weissensteiner</td>\n",
       "    </tr>\n",
       "    <tr>\n",
       "      <th>2</th>\n",
       "      <td>13139</td>\n",
       "      <td>winter</td>\n",
       "      <td>Speed Skating</td>\n",
       "      <td>3,000 metres, Women</td>\n",
       "      <td>10</td>\n",
       "      <td>NaN</td>\n",
       "      <td>Canada</td>\n",
       "      <td>CAN</td>\n",
       "      <td>NaN</td>\n",
       "    </tr>\n",
       "    <tr>\n",
       "      <th>3</th>\n",
       "      <td>13139</td>\n",
       "      <td>winter</td>\n",
       "      <td>Speed Skating</td>\n",
       "      <td>5,000 metres, Women</td>\n",
       "      <td>3</td>\n",
       "      <td>Bronze</td>\n",
       "      <td>Canada</td>\n",
       "      <td>CAN</td>\n",
       "      <td>NaN</td>\n",
       "    </tr>\n",
       "    <tr>\n",
       "      <th>4</th>\n",
       "      <td>68826</td>\n",
       "      <td>winter</td>\n",
       "      <td>Bobsleigh</td>\n",
       "      <td>Two, Men</td>\n",
       "      <td>10</td>\n",
       "      <td>NaN</td>\n",
       "      <td>Great Britain</td>\n",
       "      <td>GBR</td>\n",
       "      <td>Lee Johnston</td>\n",
       "    </tr>\n",
       "    <tr>\n",
       "      <th>5</th>\n",
       "      <td>69119</td>\n",
       "      <td>winter</td>\n",
       "      <td>Bobsleigh</td>\n",
       "      <td>Four, Men</td>\n",
       "      <td>14</td>\n",
       "      <td>NaN</td>\n",
       "      <td>Great Britain</td>\n",
       "      <td>GBR</td>\n",
       "      <td>Great Britain 2</td>\n",
       "    </tr>\n",
       "  </tbody>\n",
       "</table>\n",
       "</div>"
      ],
      "text/plain": [
       "0 athlete_id  season          sport                event position   medal  \\\n",
       "1      13065  winter      Bobsleigh           Two, Women        7     NaN   \n",
       "2      13139  winter  Speed Skating  3,000 metres, Women       10     NaN   \n",
       "3      13139  winter  Speed Skating  5,000 metres, Women        3  Bronze   \n",
       "4      68826  winter      Bobsleigh             Two, Men       10     NaN   \n",
       "5      69119  winter      Bobsleigh            Four, Men       14     NaN   \n",
       "\n",
       "0        country country_code                  team  \n",
       "1          Italy          ITA  Gerda Weissensteiner  \n",
       "2         Canada          CAN                   NaN  \n",
       "3         Canada          CAN                   NaN  \n",
       "4  Great Britain          GBR          Lee Johnston  \n",
       "5  Great Britain          GBR       Great Britain 2  "
      ]
     },
     "execution_count": 102,
     "metadata": {},
     "output_type": "execute_result"
    }
   ],
   "source": [
    "print(results_dataframe.shape)\n",
    "results_dataframe.columns = results_dataframe.iloc[0]\n",
    "results_dataframe = results_dataframe[1:]\n",
    "results_dataframe.head()"
   ]
  },
  {
   "cell_type": "code",
   "execution_count": 103,
   "metadata": {},
   "outputs": [
    {
     "data": {
      "text/plain": [
       "(62, 6)"
      ]
     },
     "execution_count": 103,
     "metadata": {},
     "output_type": "execute_result"
    }
   ],
   "source": [
    "games_df.shape"
   ]
  },
  {
   "cell_type": "code",
   "execution_count": 104,
   "metadata": {},
   "outputs": [
    {
     "data": {
      "text/html": [
       "<div>\n",
       "<style scoped>\n",
       "    .dataframe tbody tr th:only-of-type {\n",
       "        vertical-align: middle;\n",
       "    }\n",
       "\n",
       "    .dataframe tbody tr th {\n",
       "        vertical-align: top;\n",
       "    }\n",
       "\n",
       "    .dataframe thead th {\n",
       "        text-align: right;\n",
       "    }\n",
       "</style>\n",
       "<table border=\"1\" class=\"dataframe\">\n",
       "  <thead>\n",
       "    <tr style=\"text-align: right;\">\n",
       "      <th></th>\n",
       "      <th>year</th>\n",
       "      <th>season</th>\n",
       "      <th>city</th>\n",
       "      <th>country</th>\n",
       "      <th>opened</th>\n",
       "      <th>closed</th>\n",
       "    </tr>\n",
       "  </thead>\n",
       "  <tbody>\n",
       "    <tr>\n",
       "      <th>0</th>\n",
       "      <td>1912</td>\n",
       "      <td>summer</td>\n",
       "      <td>Stockholm</td>\n",
       "      <td>Sweden</td>\n",
       "      <td>1912-07-06</td>\n",
       "      <td>1912-07-27</td>\n",
       "    </tr>\n",
       "    <tr>\n",
       "      <th>1</th>\n",
       "      <td>1920</td>\n",
       "      <td>summer</td>\n",
       "      <td>Antwerpen</td>\n",
       "      <td>Belgium</td>\n",
       "      <td>1920-08-14</td>\n",
       "      <td>1920-08-30</td>\n",
       "    </tr>\n",
       "    <tr>\n",
       "      <th>2</th>\n",
       "      <td>1996</td>\n",
       "      <td>summer</td>\n",
       "      <td>Atlanta</td>\n",
       "      <td>United States</td>\n",
       "      <td>1996-07-19</td>\n",
       "      <td>1996-08-04</td>\n",
       "    </tr>\n",
       "    <tr>\n",
       "      <th>3</th>\n",
       "      <td>1924</td>\n",
       "      <td>summer</td>\n",
       "      <td>Paris</td>\n",
       "      <td>France</td>\n",
       "      <td>1924-07-05</td>\n",
       "      <td>1924-07-27</td>\n",
       "    </tr>\n",
       "    <tr>\n",
       "      <th>4</th>\n",
       "      <td>1992</td>\n",
       "      <td>summer</td>\n",
       "      <td>Barcelona</td>\n",
       "      <td>Spain</td>\n",
       "      <td>1992-07-25</td>\n",
       "      <td>1992-08-09</td>\n",
       "    </tr>\n",
       "  </tbody>\n",
       "</table>\n",
       "</div>"
      ],
      "text/plain": [
       "   year  season       city        country      opened      closed\n",
       "0  1912  summer  Stockholm         Sweden  1912-07-06  1912-07-27\n",
       "1  1920  summer  Antwerpen        Belgium  1920-08-14  1920-08-30\n",
       "2  1996  summer    Atlanta  United States  1996-07-19  1996-08-04\n",
       "3  1924  summer      Paris         France  1924-07-05  1924-07-27\n",
       "4  1992  summer  Barcelona          Spain  1992-07-25  1992-08-09"
      ]
     },
     "execution_count": 104,
     "metadata": {},
     "output_type": "execute_result"
    }
   ],
   "source": [
    "games_df.head()"
   ]
  },
  {
   "cell_type": "code",
   "execution_count": 105,
   "metadata": {},
   "outputs": [
    {
     "data": {
      "text/html": [
       "<div>\n",
       "<style scoped>\n",
       "    .dataframe tbody tr th:only-of-type {\n",
       "        vertical-align: middle;\n",
       "    }\n",
       "\n",
       "    .dataframe tbody tr th {\n",
       "        vertical-align: top;\n",
       "    }\n",
       "\n",
       "    .dataframe thead th {\n",
       "        text-align: right;\n",
       "    }\n",
       "</style>\n",
       "<table border=\"1\" class=\"dataframe\">\n",
       "  <thead>\n",
       "    <tr style=\"text-align: right;\">\n",
       "      <th></th>\n",
       "      <th>athlete_id</th>\n",
       "      <th>name</th>\n",
       "      <th>gender</th>\n",
       "      <th>measurements</th>\n",
       "      <th>born</th>\n",
       "      <th>died</th>\n",
       "      <th>affiliations</th>\n",
       "    </tr>\n",
       "  </thead>\n",
       "  <tbody>\n",
       "    <tr>\n",
       "      <th>0</th>\n",
       "      <td>7.0</td>\n",
       "      <td>Patrick•Chila</td>\n",
       "      <td>male</td>\n",
       "      <td>180 cm / 73 kg</td>\n",
       "      <td>1969-11-27</td>\n",
       "      <td>NaN</td>\n",
       "      <td>Espérance de Reuilly / Levallois SCTT / Royal ...</td>\n",
       "    </tr>\n",
       "    <tr>\n",
       "      <th>1</th>\n",
       "      <td>15.0</td>\n",
       "      <td>Damien•Éloi</td>\n",
       "      <td>male</td>\n",
       "      <td>165 cm / 58 kg</td>\n",
       "      <td>1969-07-04</td>\n",
       "      <td>NaN</td>\n",
       "      <td>Caen TTC, Caen (FRA) / SAG Cestas, Cestas (FRA...</td>\n",
       "    </tr>\n",
       "    <tr>\n",
       "      <th>2</th>\n",
       "      <td>18.0</td>\n",
       "      <td>Jean-Philippe•Gatien</td>\n",
       "      <td>male</td>\n",
       "      <td>178 cm / 73 kg</td>\n",
       "      <td>1968-10-16</td>\n",
       "      <td>NaN</td>\n",
       "      <td>Levallois SC, Levallois-Perret (FRA)</td>\n",
       "    </tr>\n",
       "    <tr>\n",
       "      <th>3</th>\n",
       "      <td>27.0</td>\n",
       "      <td>Christophe•Legoût</td>\n",
       "      <td>male</td>\n",
       "      <td>177 cm / 75 kg</td>\n",
       "      <td>1973-08-06</td>\n",
       "      <td>NaN</td>\n",
       "      <td>Levallois SC, Levallois-Perret (FRA) / Istres ...</td>\n",
       "    </tr>\n",
       "    <tr>\n",
       "      <th>4</th>\n",
       "      <td>35.0</td>\n",
       "      <td>Fabrice•Santoro</td>\n",
       "      <td>male</td>\n",
       "      <td>177 cm / 68 kg</td>\n",
       "      <td>1972-12-09</td>\n",
       "      <td>NaN</td>\n",
       "      <td>NaN</td>\n",
       "    </tr>\n",
       "  </tbody>\n",
       "</table>\n",
       "</div>"
      ],
      "text/plain": [
       "   athlete_id                  name gender    measurements        born died  \\\n",
       "0         7.0         Patrick•Chila   male  180 cm / 73 kg  1969-11-27  NaN   \n",
       "1        15.0           Damien•Éloi   male  165 cm / 58 kg  1969-07-04  NaN   \n",
       "2        18.0  Jean-Philippe•Gatien   male  178 cm / 73 kg  1968-10-16  NaN   \n",
       "3        27.0     Christophe•Legoût   male  177 cm / 75 kg  1973-08-06  NaN   \n",
       "4        35.0       Fabrice•Santoro   male  177 cm / 68 kg  1972-12-09  NaN   \n",
       "\n",
       "                                        affiliations  \n",
       "0  Espérance de Reuilly / Levallois SCTT / Royal ...  \n",
       "1  Caen TTC, Caen (FRA) / SAG Cestas, Cestas (FRA...  \n",
       "2               Levallois SC, Levallois-Perret (FRA)  \n",
       "3  Levallois SC, Levallois-Perret (FRA) / Istres ...  \n",
       "4                                                NaN  "
      ]
     },
     "execution_count": 105,
     "metadata": {},
     "output_type": "execute_result"
    }
   ],
   "source": [
    "athletes_df.head()"
   ]
  },
  {
   "cell_type": "code",
   "execution_count": 106,
   "metadata": {},
   "outputs": [
    {
     "data": {
      "text/plain": [
       "athlete_id          0\n",
       "name                0\n",
       "gender              0\n",
       "measurements      378\n",
       "born                2\n",
       "died            39073\n",
       "affiliations     9179\n",
       "dtype: int64"
      ]
     },
     "execution_count": 106,
     "metadata": {},
     "output_type": "execute_result"
    }
   ],
   "source": [
    "athletes_df.isna().sum()\n"
   ]
  },
  {
   "cell_type": "code",
   "execution_count": 107,
   "metadata": {},
   "outputs": [
    {
     "data": {
      "text/plain": [
       "0\n",
       "athlete_id          0\n",
       "season              0\n",
       "sport               0\n",
       "event               0\n",
       "position         9171\n",
       "medal           45061\n",
       "country             0\n",
       "country_code        0\n",
       "team            32245\n",
       "dtype: int64"
      ]
     },
     "execution_count": 107,
     "metadata": {},
     "output_type": "execute_result"
    }
   ],
   "source": [
    "\n",
    "results_dataframe.isna().sum()"
   ]
  },
  {
   "cell_type": "code",
   "execution_count": 108,
   "metadata": {},
   "outputs": [
    {
     "data": {
      "text/plain": [
       "year        0\n",
       "season      0\n",
       "city        0\n",
       "country     0\n",
       "opened     11\n",
       "closed     13\n",
       "dtype: int64"
      ]
     },
     "execution_count": 108,
     "metadata": {},
     "output_type": "execute_result"
    }
   ],
   "source": [
    "games_df.isna().sum()\n"
   ]
  },
  {
   "cell_type": "code",
   "execution_count": 109,
   "metadata": {},
   "outputs": [
    {
     "name": "stdout",
     "output_type": "stream",
     "text": [
      "<class 'pandas.core.frame.DataFrame'>\n",
      "RangeIndex: 39375 entries, 0 to 39374\n",
      "Data columns (total 7 columns):\n",
      " #   Column        Non-Null Count  Dtype  \n",
      "---  ------        --------------  -----  \n",
      " 0   athlete_id    39375 non-null  float64\n",
      " 1   name          39375 non-null  object \n",
      " 2   gender        39375 non-null  object \n",
      " 3   measurements  38997 non-null  object \n",
      " 4   born          39373 non-null  object \n",
      " 5   died          302 non-null    object \n",
      " 6   affiliations  30196 non-null  object \n",
      "dtypes: float64(1), object(6)\n",
      "memory usage: 2.1+ MB\n"
     ]
    }
   ],
   "source": [
    "athletes_df.info()"
   ]
  },
  {
   "cell_type": "code",
   "execution_count": 110,
   "metadata": {},
   "outputs": [
    {
     "name": "stdout",
     "output_type": "stream",
     "text": [
      "<class 'pandas.core.frame.DataFrame'>\n",
      "RangeIndex: 62 entries, 0 to 61\n",
      "Data columns (total 6 columns):\n",
      " #   Column   Non-Null Count  Dtype \n",
      "---  ------   --------------  ----- \n",
      " 0   year     62 non-null     int64 \n",
      " 1   season   62 non-null     object\n",
      " 2   city     62 non-null     object\n",
      " 3   country  62 non-null     object\n",
      " 4   opened   51 non-null     object\n",
      " 5   closed   49 non-null     object\n",
      "dtypes: int64(1), object(5)\n",
      "memory usage: 3.0+ KB\n"
     ]
    }
   ],
   "source": [
    "games_df.info()"
   ]
  },
  {
   "cell_type": "code",
   "execution_count": 111,
   "metadata": {},
   "outputs": [
    {
     "name": "stdout",
     "output_type": "stream",
     "text": [
      "<class 'pandas.core.frame.DataFrame'>\n",
      "RangeIndex: 52332 entries, 1 to 52332\n",
      "Data columns (total 9 columns):\n",
      " #   Column        Non-Null Count  Dtype \n",
      "---  ------        --------------  ----- \n",
      " 0   athlete_id    52332 non-null  object\n",
      " 1   season        52332 non-null  object\n",
      " 2   sport         52332 non-null  object\n",
      " 3   event         52332 non-null  object\n",
      " 4   position      43161 non-null  object\n",
      " 5   medal         7271 non-null   object\n",
      " 6   country       52332 non-null  object\n",
      " 7   country_code  52332 non-null  object\n",
      " 8   team          20087 non-null  object\n",
      "dtypes: object(9)\n",
      "memory usage: 3.6+ MB\n"
     ]
    }
   ],
   "source": [
    "results_dataframe.info()"
   ]
  },
  {
   "cell_type": "code",
   "execution_count": 112,
   "metadata": {},
   "outputs": [
    {
     "data": {
      "text/html": [
       "<div>\n",
       "<style scoped>\n",
       "    .dataframe tbody tr th:only-of-type {\n",
       "        vertical-align: middle;\n",
       "    }\n",
       "\n",
       "    .dataframe tbody tr th {\n",
       "        vertical-align: top;\n",
       "    }\n",
       "\n",
       "    .dataframe thead th {\n",
       "        text-align: right;\n",
       "    }\n",
       "</style>\n",
       "<table border=\"1\" class=\"dataframe\">\n",
       "  <thead>\n",
       "    <tr style=\"text-align: right;\">\n",
       "      <th></th>\n",
       "      <th>athlete_id</th>\n",
       "      <th>season</th>\n",
       "      <th>sport</th>\n",
       "      <th>event</th>\n",
       "      <th>position</th>\n",
       "      <th>medal</th>\n",
       "      <th>country</th>\n",
       "      <th>country_code</th>\n",
       "      <th>team</th>\n",
       "    </tr>\n",
       "  </thead>\n",
       "  <tbody>\n",
       "    <tr>\n",
       "      <th>count</th>\n",
       "      <td>52332</td>\n",
       "      <td>52332</td>\n",
       "      <td>52332</td>\n",
       "      <td>52332</td>\n",
       "      <td>43161</td>\n",
       "      <td>7271</td>\n",
       "      <td>52332</td>\n",
       "      <td>52332</td>\n",
       "      <td>20087</td>\n",
       "    </tr>\n",
       "    <tr>\n",
       "      <th>unique</th>\n",
       "      <td>29339</td>\n",
       "      <td>3</td>\n",
       "      <td>57</td>\n",
       "      <td>352</td>\n",
       "      <td>209</td>\n",
       "      <td>4</td>\n",
       "      <td>207</td>\n",
       "      <td>207</td>\n",
       "      <td>3995</td>\n",
       "    </tr>\n",
       "    <tr>\n",
       "      <th>top</th>\n",
       "      <td>93860</td>\n",
       "      <td>summer</td>\n",
       "      <td>Athletics</td>\n",
       "      <td>Ice Hockey, Men</td>\n",
       "      <td>5</td>\n",
       "      <td>Bronze</td>\n",
       "      <td>United States</td>\n",
       "      <td>USA</td>\n",
       "      <td>United States</td>\n",
       "    </tr>\n",
       "    <tr>\n",
       "      <th>freq</th>\n",
       "      <td>23</td>\n",
       "      <td>39478</td>\n",
       "      <td>6774</td>\n",
       "      <td>868</td>\n",
       "      <td>2230</td>\n",
       "      <td>2507</td>\n",
       "      <td>3176</td>\n",
       "      <td>3176</td>\n",
       "      <td>1089</td>\n",
       "    </tr>\n",
       "  </tbody>\n",
       "</table>\n",
       "</div>"
      ],
      "text/plain": [
       "0       athlete_id  season      sport            event  position   medal  \\\n",
       "count        52332   52332      52332            52332     43161    7271   \n",
       "unique       29339       3         57              352       209       4   \n",
       "top          93860  summer  Athletics  Ice Hockey, Men         5  Bronze   \n",
       "freq            23   39478       6774              868      2230    2507   \n",
       "\n",
       "0             country country_code           team  \n",
       "count           52332        52332          20087  \n",
       "unique            207          207           3995  \n",
       "top     United States          USA  United States  \n",
       "freq             3176         3176           1089  "
      ]
     },
     "execution_count": 112,
     "metadata": {},
     "output_type": "execute_result"
    }
   ],
   "source": [
    "results_dataframe.describe()"
   ]
  },
  {
   "cell_type": "markdown",
   "metadata": {},
   "source": [
    "### Exercise 1.2\n",
    "\n",
    "Combine all provided data suitably into a single, tidy data set (e.g. by merging, concatenating or reshaping the data) such that you are able to answer the subsequent questions.\n"
   ]
  },
  {
   "cell_type": "code",
   "execution_count": 113,
   "metadata": {},
   "outputs": [],
   "source": [
    "results_athlethes = results_dataframe.merge(athletes_df, how=\"left\", left_on=\"athlete_id\", right_on=\"athlete_id\")"
   ]
  },
  {
   "cell_type": "code",
   "execution_count": 114,
   "metadata": {},
   "outputs": [
    {
     "data": {
      "text/html": [
       "<div>\n",
       "<style scoped>\n",
       "    .dataframe tbody tr th:only-of-type {\n",
       "        vertical-align: middle;\n",
       "    }\n",
       "\n",
       "    .dataframe tbody tr th {\n",
       "        vertical-align: top;\n",
       "    }\n",
       "\n",
       "    .dataframe thead th {\n",
       "        text-align: right;\n",
       "    }\n",
       "</style>\n",
       "<table border=\"1\" class=\"dataframe\">\n",
       "  <thead>\n",
       "    <tr style=\"text-align: right;\">\n",
       "      <th></th>\n",
       "      <th>athlete_id</th>\n",
       "      <th>season</th>\n",
       "      <th>sport</th>\n",
       "      <th>event</th>\n",
       "      <th>position</th>\n",
       "      <th>medal</th>\n",
       "      <th>country</th>\n",
       "      <th>country_code</th>\n",
       "      <th>team</th>\n",
       "      <th>name</th>\n",
       "      <th>gender</th>\n",
       "      <th>measurements</th>\n",
       "      <th>born</th>\n",
       "      <th>died</th>\n",
       "      <th>affiliations</th>\n",
       "    </tr>\n",
       "  </thead>\n",
       "  <tbody>\n",
       "    <tr>\n",
       "      <th>0</th>\n",
       "      <td>13065</td>\n",
       "      <td>winter</td>\n",
       "      <td>Bobsleigh</td>\n",
       "      <td>Two, Women</td>\n",
       "      <td>7</td>\n",
       "      <td>NaN</td>\n",
       "      <td>Italy</td>\n",
       "      <td>ITA</td>\n",
       "      <td>Gerda Weissensteiner</td>\n",
       "      <td>Antonella•Bellutti</td>\n",
       "      <td>female</td>\n",
       "      <td>180 cm / 73 kg</td>\n",
       "      <td>1968-11-07</td>\n",
       "      <td>NaN</td>\n",
       "      <td>S.C. Adriana Bolzano/BC Cortina</td>\n",
       "    </tr>\n",
       "    <tr>\n",
       "      <th>1</th>\n",
       "      <td>13139</td>\n",
       "      <td>winter</td>\n",
       "      <td>Speed Skating</td>\n",
       "      <td>3,000 metres, Women</td>\n",
       "      <td>10</td>\n",
       "      <td>NaN</td>\n",
       "      <td>Canada</td>\n",
       "      <td>CAN</td>\n",
       "      <td>NaN</td>\n",
       "      <td>Clara•Hughes</td>\n",
       "      <td>female</td>\n",
       "      <td>175 cm / 72 kg</td>\n",
       "      <td>1972-09-27</td>\n",
       "      <td>NaN</td>\n",
       "      <td>Manitoba / Saturn Racing Team / Sherbrooke Spe...</td>\n",
       "    </tr>\n",
       "    <tr>\n",
       "      <th>2</th>\n",
       "      <td>13139</td>\n",
       "      <td>winter</td>\n",
       "      <td>Speed Skating</td>\n",
       "      <td>5,000 metres, Women</td>\n",
       "      <td>3</td>\n",
       "      <td>Bronze</td>\n",
       "      <td>Canada</td>\n",
       "      <td>CAN</td>\n",
       "      <td>NaN</td>\n",
       "      <td>Clara•Hughes</td>\n",
       "      <td>female</td>\n",
       "      <td>175 cm / 72 kg</td>\n",
       "      <td>1972-09-27</td>\n",
       "      <td>NaN</td>\n",
       "      <td>Manitoba / Saturn Racing Team / Sherbrooke Spe...</td>\n",
       "    </tr>\n",
       "    <tr>\n",
       "      <th>3</th>\n",
       "      <td>68826</td>\n",
       "      <td>winter</td>\n",
       "      <td>Bobsleigh</td>\n",
       "      <td>Two, Men</td>\n",
       "      <td>10</td>\n",
       "      <td>NaN</td>\n",
       "      <td>Great Britain</td>\n",
       "      <td>GBR</td>\n",
       "      <td>Lee Johnston</td>\n",
       "      <td>Marcus•Adam</td>\n",
       "      <td>male</td>\n",
       "      <td>182 cm / 82 kg</td>\n",
       "      <td>1968-02-28</td>\n",
       "      <td>NaN</td>\n",
       "      <td>Belgrave Harriers, Wimbledon (GBR)</td>\n",
       "    </tr>\n",
       "    <tr>\n",
       "      <th>4</th>\n",
       "      <td>69119</td>\n",
       "      <td>winter</td>\n",
       "      <td>Bobsleigh</td>\n",
       "      <td>Four, Men</td>\n",
       "      <td>14</td>\n",
       "      <td>NaN</td>\n",
       "      <td>Great Britain</td>\n",
       "      <td>GBR</td>\n",
       "      <td>Great Britain 2</td>\n",
       "      <td>Phil•Harries</td>\n",
       "      <td>male</td>\n",
       "      <td>183 cm / 88 kg</td>\n",
       "      <td>1966-04-07</td>\n",
       "      <td>NaN</td>\n",
       "      <td>Derby &amp; County AC, Derby (GBR)</td>\n",
       "    </tr>\n",
       "  </tbody>\n",
       "</table>\n",
       "</div>"
      ],
      "text/plain": [
       "  athlete_id  season          sport                event position   medal  \\\n",
       "0      13065  winter      Bobsleigh           Two, Women        7     NaN   \n",
       "1      13139  winter  Speed Skating  3,000 metres, Women       10     NaN   \n",
       "2      13139  winter  Speed Skating  5,000 metres, Women        3  Bronze   \n",
       "3      68826  winter      Bobsleigh             Two, Men       10     NaN   \n",
       "4      69119  winter      Bobsleigh            Four, Men       14     NaN   \n",
       "\n",
       "         country country_code                  team                name  \\\n",
       "0          Italy          ITA  Gerda Weissensteiner  Antonella•Bellutti   \n",
       "1         Canada          CAN                   NaN        Clara•Hughes   \n",
       "2         Canada          CAN                   NaN        Clara•Hughes   \n",
       "3  Great Britain          GBR          Lee Johnston         Marcus•Adam   \n",
       "4  Great Britain          GBR       Great Britain 2        Phil•Harries   \n",
       "\n",
       "   gender    measurements        born died  \\\n",
       "0  female  180 cm / 73 kg  1968-11-07  NaN   \n",
       "1  female  175 cm / 72 kg  1972-09-27  NaN   \n",
       "2  female  175 cm / 72 kg  1972-09-27  NaN   \n",
       "3    male  182 cm / 82 kg  1968-02-28  NaN   \n",
       "4    male  183 cm / 88 kg  1966-04-07  NaN   \n",
       "\n",
       "                                        affiliations  \n",
       "0                    S.C. Adriana Bolzano/BC Cortina  \n",
       "1  Manitoba / Saturn Racing Team / Sherbrooke Spe...  \n",
       "2  Manitoba / Saturn Racing Team / Sherbrooke Spe...  \n",
       "3                 Belgrave Harriers, Wimbledon (GBR)  \n",
       "4                     Derby & County AC, Derby (GBR)  "
      ]
     },
     "execution_count": 114,
     "metadata": {},
     "output_type": "execute_result"
    }
   ],
   "source": [
    "results_athlethes.head()"
   ]
  },
  {
   "cell_type": "code",
   "execution_count": 115,
   "metadata": {},
   "outputs": [
    {
     "data": {
      "text/plain": [
       "(50681, 15)"
      ]
     },
     "execution_count": 115,
     "metadata": {},
     "output_type": "execute_result"
    }
   ],
   "source": [
    "results_athlethes.drop_duplicates(inplace=True)\n",
    "results_athlethes.shape"
   ]
  },
  {
   "cell_type": "code",
   "execution_count": 116,
   "metadata": {},
   "outputs": [],
   "source": [
    "results_with_games = results_athlethes.merge(games_df, how=\"left\", on=[\"season\",\"country\"])"
   ]
  },
  {
   "cell_type": "code",
   "execution_count": 117,
   "metadata": {},
   "outputs": [
    {
     "data": {
      "text/html": [
       "<div>\n",
       "<style scoped>\n",
       "    .dataframe tbody tr th:only-of-type {\n",
       "        vertical-align: middle;\n",
       "    }\n",
       "\n",
       "    .dataframe tbody tr th {\n",
       "        vertical-align: top;\n",
       "    }\n",
       "\n",
       "    .dataframe thead th {\n",
       "        text-align: right;\n",
       "    }\n",
       "</style>\n",
       "<table border=\"1\" class=\"dataframe\">\n",
       "  <thead>\n",
       "    <tr style=\"text-align: right;\">\n",
       "      <th></th>\n",
       "      <th>athlete_id</th>\n",
       "      <th>season</th>\n",
       "      <th>sport</th>\n",
       "      <th>event</th>\n",
       "      <th>position</th>\n",
       "      <th>medal</th>\n",
       "      <th>country</th>\n",
       "      <th>country_code</th>\n",
       "      <th>team</th>\n",
       "      <th>name</th>\n",
       "      <th>gender</th>\n",
       "      <th>measurements</th>\n",
       "      <th>born</th>\n",
       "      <th>died</th>\n",
       "      <th>affiliations</th>\n",
       "      <th>year</th>\n",
       "      <th>city</th>\n",
       "      <th>opened</th>\n",
       "      <th>closed</th>\n",
       "    </tr>\n",
       "  </thead>\n",
       "  <tbody>\n",
       "    <tr>\n",
       "      <th>0</th>\n",
       "      <td>13065</td>\n",
       "      <td>winter</td>\n",
       "      <td>Bobsleigh</td>\n",
       "      <td>Two, Women</td>\n",
       "      <td>7</td>\n",
       "      <td>NaN</td>\n",
       "      <td>Italy</td>\n",
       "      <td>ITA</td>\n",
       "      <td>Gerda Weissensteiner</td>\n",
       "      <td>Antonella•Bellutti</td>\n",
       "      <td>female</td>\n",
       "      <td>180 cm / 73 kg</td>\n",
       "      <td>1968-11-07</td>\n",
       "      <td>NaN</td>\n",
       "      <td>S.C. Adriana Bolzano/BC Cortina</td>\n",
       "      <td>2006.0</td>\n",
       "      <td>Torino</td>\n",
       "      <td>2006-02-10</td>\n",
       "      <td>2006-02-26</td>\n",
       "    </tr>\n",
       "    <tr>\n",
       "      <th>1</th>\n",
       "      <td>13065</td>\n",
       "      <td>winter</td>\n",
       "      <td>Bobsleigh</td>\n",
       "      <td>Two, Women</td>\n",
       "      <td>7</td>\n",
       "      <td>NaN</td>\n",
       "      <td>Italy</td>\n",
       "      <td>ITA</td>\n",
       "      <td>Gerda Weissensteiner</td>\n",
       "      <td>Antonella•Bellutti</td>\n",
       "      <td>female</td>\n",
       "      <td>180 cm / 73 kg</td>\n",
       "      <td>1968-11-07</td>\n",
       "      <td>NaN</td>\n",
       "      <td>S.C. Adriana Bolzano/BC Cortina</td>\n",
       "      <td>1956.0</td>\n",
       "      <td>Cortina d'Ampezzo</td>\n",
       "      <td>1956-01-26</td>\n",
       "      <td>1956-02-05</td>\n",
       "    </tr>\n",
       "    <tr>\n",
       "      <th>2</th>\n",
       "      <td>13065</td>\n",
       "      <td>winter</td>\n",
       "      <td>Bobsleigh</td>\n",
       "      <td>Two, Women</td>\n",
       "      <td>7</td>\n",
       "      <td>NaN</td>\n",
       "      <td>Italy</td>\n",
       "      <td>ITA</td>\n",
       "      <td>Gerda Weissensteiner</td>\n",
       "      <td>Antonella•Bellutti</td>\n",
       "      <td>female</td>\n",
       "      <td>180 cm / 73 kg</td>\n",
       "      <td>1968-11-07</td>\n",
       "      <td>NaN</td>\n",
       "      <td>S.C. Adriana Bolzano/BC Cortina</td>\n",
       "      <td>1944.0</td>\n",
       "      <td>Cortina d'Ampezzo</td>\n",
       "      <td>NaN</td>\n",
       "      <td>NaN</td>\n",
       "    </tr>\n",
       "    <tr>\n",
       "      <th>3</th>\n",
       "      <td>13065</td>\n",
       "      <td>winter</td>\n",
       "      <td>Bobsleigh</td>\n",
       "      <td>Two, Women</td>\n",
       "      <td>7</td>\n",
       "      <td>NaN</td>\n",
       "      <td>Italy</td>\n",
       "      <td>ITA</td>\n",
       "      <td>Gerda Weissensteiner</td>\n",
       "      <td>Antonella•Bellutti</td>\n",
       "      <td>female</td>\n",
       "      <td>180 cm / 73 kg</td>\n",
       "      <td>1968-11-07</td>\n",
       "      <td>NaN</td>\n",
       "      <td>S.C. Adriana Bolzano/BC Cortina</td>\n",
       "      <td>2026.0</td>\n",
       "      <td>Milano-Cortina d'Ampezzo</td>\n",
       "      <td>NaN</td>\n",
       "      <td>NaN</td>\n",
       "    </tr>\n",
       "    <tr>\n",
       "      <th>4</th>\n",
       "      <td>13139</td>\n",
       "      <td>winter</td>\n",
       "      <td>Speed Skating</td>\n",
       "      <td>3,000 metres, Women</td>\n",
       "      <td>10</td>\n",
       "      <td>NaN</td>\n",
       "      <td>Canada</td>\n",
       "      <td>CAN</td>\n",
       "      <td>NaN</td>\n",
       "      <td>Clara•Hughes</td>\n",
       "      <td>female</td>\n",
       "      <td>175 cm / 72 kg</td>\n",
       "      <td>1972-09-27</td>\n",
       "      <td>NaN</td>\n",
       "      <td>Manitoba / Saturn Racing Team / Sherbrooke Spe...</td>\n",
       "      <td>1988.0</td>\n",
       "      <td>Calgary</td>\n",
       "      <td>1988-02-13</td>\n",
       "      <td>1988-02-28</td>\n",
       "    </tr>\n",
       "  </tbody>\n",
       "</table>\n",
       "</div>"
      ],
      "text/plain": [
       "  athlete_id  season          sport                event position medal  \\\n",
       "0      13065  winter      Bobsleigh           Two, Women        7   NaN   \n",
       "1      13065  winter      Bobsleigh           Two, Women        7   NaN   \n",
       "2      13065  winter      Bobsleigh           Two, Women        7   NaN   \n",
       "3      13065  winter      Bobsleigh           Two, Women        7   NaN   \n",
       "4      13139  winter  Speed Skating  3,000 metres, Women       10   NaN   \n",
       "\n",
       "  country country_code                  team                name  gender  \\\n",
       "0   Italy          ITA  Gerda Weissensteiner  Antonella•Bellutti  female   \n",
       "1   Italy          ITA  Gerda Weissensteiner  Antonella•Bellutti  female   \n",
       "2   Italy          ITA  Gerda Weissensteiner  Antonella•Bellutti  female   \n",
       "3   Italy          ITA  Gerda Weissensteiner  Antonella•Bellutti  female   \n",
       "4  Canada          CAN                   NaN        Clara•Hughes  female   \n",
       "\n",
       "     measurements        born died  \\\n",
       "0  180 cm / 73 kg  1968-11-07  NaN   \n",
       "1  180 cm / 73 kg  1968-11-07  NaN   \n",
       "2  180 cm / 73 kg  1968-11-07  NaN   \n",
       "3  180 cm / 73 kg  1968-11-07  NaN   \n",
       "4  175 cm / 72 kg  1972-09-27  NaN   \n",
       "\n",
       "                                        affiliations    year  \\\n",
       "0                    S.C. Adriana Bolzano/BC Cortina  2006.0   \n",
       "1                    S.C. Adriana Bolzano/BC Cortina  1956.0   \n",
       "2                    S.C. Adriana Bolzano/BC Cortina  1944.0   \n",
       "3                    S.C. Adriana Bolzano/BC Cortina  2026.0   \n",
       "4  Manitoba / Saturn Racing Team / Sherbrooke Spe...  1988.0   \n",
       "\n",
       "                       city      opened      closed  \n",
       "0                    Torino  2006-02-10  2006-02-26  \n",
       "1         Cortina d'Ampezzo  1956-01-26  1956-02-05  \n",
       "2         Cortina d'Ampezzo         NaN         NaN  \n",
       "3  Milano-Cortina d'Ampezzo         NaN         NaN  \n",
       "4                   Calgary  1988-02-13  1988-02-28  "
      ]
     },
     "execution_count": 117,
     "metadata": {},
     "output_type": "execute_result"
    }
   ],
   "source": [
    "results_with_games.head()"
   ]
  },
  {
   "cell_type": "code",
   "execution_count": 118,
   "metadata": {},
   "outputs": [
    {
     "data": {
      "text/plain": [
       "athlete_id          0\n",
       "season              0\n",
       "sport               0\n",
       "event               0\n",
       "position        12322\n",
       "medal           67965\n",
       "country             0\n",
       "country_code        0\n",
       "team            48220\n",
       "name               52\n",
       "gender             52\n",
       "measurements      350\n",
       "born               54\n",
       "died            81453\n",
       "affiliations    11651\n",
       "year            24965\n",
       "city            24965\n",
       "opened          37153\n",
       "closed          40718\n",
       "dtype: int64"
      ]
     },
     "execution_count": 118,
     "metadata": {},
     "output_type": "execute_result"
    }
   ],
   "source": [
    "results_with_games.drop_duplicates(inplace=True)\n",
    "results_with_games.isna().sum()\n",
    "# results_with_games.shape\n"
   ]
  },
  {
   "cell_type": "code",
   "execution_count": 119,
   "metadata": {},
   "outputs": [
    {
     "data": {
      "text/plain": [
       "(81994, 19)"
      ]
     },
     "execution_count": 119,
     "metadata": {},
     "output_type": "execute_result"
    }
   ],
   "source": [
    "results_with_games.shape"
   ]
  },
  {
   "cell_type": "markdown",
   "metadata": {},
   "source": [
    "### Exercise 1.3\n",
    "\n",
    "Describe and justify your data processing steps in a few sentences: How do you combine the data? What are the main challenges? How do you deal with these challenges and why?\n"
   ]
  },
  {
   "cell_type": "markdown",
   "metadata": {
    "vscode": {
     "languageId": "julia"
    }
   },
   "source": [
    "**Data Processing Methodology**\n",
    "\n",
    "1. First, I merged the results_dataframe with athletes_df using a left join on athlete_id\n",
    "   This preserves all Olympic results while adding athlete details where available\n",
    "\n",
    "2. Then merged the resulting dataframe with games_df using a left join on season and country\n",
    "   This adds Olympic Games information like year, city, opening/closing dates\n",
    "\n",
    "**Main challenges and solutions:**\n",
    "\n",
    "1. Data quality issues: Many NA values in several columns (visible in isna().sum() outputs)\n",
    "   Solution: Used left joins to preserve all result records even if athlete or games info missing\n",
    "2. Data integration: Results data came from multiple Excel sheets\n",
    "   Solution: Used pd.concat to combine all sheets into single results_dataframe\n",
    "3. Different data formats: Excel sheets had headers as first row rather than column names\n",
    "   Solution: Used iloc[0] to set column names and removed that row from the data\n",
    "4. Inconsistent keys between dataframes: Had to identify common fields for merging\n",
    "   Solution: Used season and country as join keys for games data as there was no direct ID field\n",
    "   The final dataset contains complete Olympic results with athlete and games information\n"
   ]
  },
  {
   "cell_type": "code",
   "execution_count": null,
   "metadata": {},
   "outputs": [],
   "source": []
  },
  {
   "cell_type": "markdown",
   "metadata": {},
   "source": [
    "### Exercise 1.4\n",
    "\n",
    "Sort the data permanently by year, sport, event and position. Then display the first 3 rows of the data set, and print the number of rows and columns.\n"
   ]
  },
  {
   "cell_type": "code",
   "execution_count": 120,
   "metadata": {},
   "outputs": [],
   "source": [
    "results_with_games.sort_values(by=['year','sport','event','position'], inplace=True)"
   ]
  },
  {
   "cell_type": "code",
   "execution_count": 121,
   "metadata": {},
   "outputs": [
    {
     "data": {
      "text/html": [
       "<div>\n",
       "<style scoped>\n",
       "    .dataframe tbody tr th:only-of-type {\n",
       "        vertical-align: middle;\n",
       "    }\n",
       "\n",
       "    .dataframe tbody tr th {\n",
       "        vertical-align: top;\n",
       "    }\n",
       "\n",
       "    .dataframe thead th {\n",
       "        text-align: right;\n",
       "    }\n",
       "</style>\n",
       "<table border=\"1\" class=\"dataframe\">\n",
       "  <thead>\n",
       "    <tr style=\"text-align: right;\">\n",
       "      <th></th>\n",
       "      <th>athlete_id</th>\n",
       "      <th>season</th>\n",
       "      <th>sport</th>\n",
       "      <th>event</th>\n",
       "      <th>position</th>\n",
       "      <th>medal</th>\n",
       "      <th>country</th>\n",
       "      <th>country_code</th>\n",
       "      <th>team</th>\n",
       "      <th>name</th>\n",
       "      <th>gender</th>\n",
       "      <th>measurements</th>\n",
       "      <th>born</th>\n",
       "      <th>died</th>\n",
       "      <th>affiliations</th>\n",
       "      <th>year</th>\n",
       "      <th>city</th>\n",
       "      <th>opened</th>\n",
       "      <th>closed</th>\n",
       "    </tr>\n",
       "  </thead>\n",
       "  <tbody>\n",
       "    <tr>\n",
       "      <th>15473</th>\n",
       "      <td>102871</td>\n",
       "      <td>summer</td>\n",
       "      <td>Archery</td>\n",
       "      <td>Individual, Men</td>\n",
       "      <td>29</td>\n",
       "      <td>NaN</td>\n",
       "      <td>Greece</td>\n",
       "      <td>GRE</td>\n",
       "      <td>NaN</td>\n",
       "      <td>Alexandros•Karageorgiou</td>\n",
       "      <td>male</td>\n",
       "      <td>172 cm / 58 kg</td>\n",
       "      <td>1986-06-03</td>\n",
       "      <td>NaN</td>\n",
       "      <td>Aristotle University Alumni Archery Club, Thes...</td>\n",
       "      <td>1896.0</td>\n",
       "      <td>Athina</td>\n",
       "      <td>1896-04-06</td>\n",
       "      <td>1896-04-15</td>\n",
       "    </tr>\n",
       "    <tr>\n",
       "      <th>15469</th>\n",
       "      <td>102870</td>\n",
       "      <td>summer</td>\n",
       "      <td>Archery</td>\n",
       "      <td>Individual, Men</td>\n",
       "      <td>54</td>\n",
       "      <td>NaN</td>\n",
       "      <td>Greece</td>\n",
       "      <td>GRE</td>\n",
       "      <td>NaN</td>\n",
       "      <td>Georgios•Kalogiannidis</td>\n",
       "      <td>male</td>\n",
       "      <td>180 cm / 73 kg</td>\n",
       "      <td>1982-11-21</td>\n",
       "      <td>NaN</td>\n",
       "      <td>Aristotle University Alumni Archery Club, Thes...</td>\n",
       "      <td>1896.0</td>\n",
       "      <td>Athina</td>\n",
       "      <td>1896-04-06</td>\n",
       "      <td>1896-04-15</td>\n",
       "    </tr>\n",
       "    <tr>\n",
       "      <th>15477</th>\n",
       "      <td>102872</td>\n",
       "      <td>summer</td>\n",
       "      <td>Archery</td>\n",
       "      <td>Individual, Men</td>\n",
       "      <td>57</td>\n",
       "      <td>NaN</td>\n",
       "      <td>Greece</td>\n",
       "      <td>GRE</td>\n",
       "      <td>NaN</td>\n",
       "      <td>Apostolos•Nanos</td>\n",
       "      <td>male</td>\n",
       "      <td>183 cm / 85 kg</td>\n",
       "      <td>1966-02-05</td>\n",
       "      <td>NaN</td>\n",
       "      <td>NaN</td>\n",
       "      <td>1896.0</td>\n",
       "      <td>Athina</td>\n",
       "      <td>1896-04-06</td>\n",
       "      <td>1896-04-15</td>\n",
       "    </tr>\n",
       "  </tbody>\n",
       "</table>\n",
       "</div>"
      ],
      "text/plain": [
       "      athlete_id  season    sport            event position medal country  \\\n",
       "15473     102871  summer  Archery  Individual, Men       29   NaN  Greece   \n",
       "15469     102870  summer  Archery  Individual, Men       54   NaN  Greece   \n",
       "15477     102872  summer  Archery  Individual, Men       57   NaN  Greece   \n",
       "\n",
       "      country_code team                     name gender    measurements  \\\n",
       "15473          GRE  NaN  Alexandros•Karageorgiou   male  172 cm / 58 kg   \n",
       "15469          GRE  NaN   Georgios•Kalogiannidis   male  180 cm / 73 kg   \n",
       "15477          GRE  NaN          Apostolos•Nanos   male  183 cm / 85 kg   \n",
       "\n",
       "             born died                                       affiliations  \\\n",
       "15473  1986-06-03  NaN  Aristotle University Alumni Archery Club, Thes...   \n",
       "15469  1982-11-21  NaN  Aristotle University Alumni Archery Club, Thes...   \n",
       "15477  1966-02-05  NaN                                                NaN   \n",
       "\n",
       "         year    city      opened      closed  \n",
       "15473  1896.0  Athina  1896-04-06  1896-04-15  \n",
       "15469  1896.0  Athina  1896-04-06  1896-04-15  \n",
       "15477  1896.0  Athina  1896-04-06  1896-04-15  "
      ]
     },
     "execution_count": 121,
     "metadata": {},
     "output_type": "execute_result"
    }
   ],
   "source": [
    "results_with_games.head(3)"
   ]
  },
  {
   "cell_type": "code",
   "execution_count": 122,
   "metadata": {},
   "outputs": [
    {
     "data": {
      "text/plain": [
       "(81994, 19)"
      ]
     },
     "execution_count": 122,
     "metadata": {},
     "output_type": "execute_result"
    }
   ],
   "source": [
    "results_with_games.shape"
   ]
  },
  {
   "cell_type": "markdown",
   "metadata": {},
   "source": [
    "# Exercise 2\n"
   ]
  },
  {
   "cell_type": "markdown",
   "metadata": {},
   "source": [
    "### Exercise 2.1\n",
    "\n",
    "**Which lastname is the most common among the athletes of the 2012 olympic games, and how often does this name occur?**\n"
   ]
  },
  {
   "cell_type": "code",
   "execution_count": 123,
   "metadata": {},
   "outputs": [],
   "source": [
    "df = results_with_games.copy()"
   ]
  },
  {
   "cell_type": "code",
   "execution_count": 124,
   "metadata": {},
   "outputs": [
    {
     "data": {
      "text/html": [
       "<div>\n",
       "<style scoped>\n",
       "    .dataframe tbody tr th:only-of-type {\n",
       "        vertical-align: middle;\n",
       "    }\n",
       "\n",
       "    .dataframe tbody tr th {\n",
       "        vertical-align: top;\n",
       "    }\n",
       "\n",
       "    .dataframe thead th {\n",
       "        text-align: right;\n",
       "    }\n",
       "</style>\n",
       "<table border=\"1\" class=\"dataframe\">\n",
       "  <thead>\n",
       "    <tr style=\"text-align: right;\">\n",
       "      <th></th>\n",
       "      <th>athlete_id</th>\n",
       "      <th>season</th>\n",
       "      <th>sport</th>\n",
       "      <th>event</th>\n",
       "      <th>position</th>\n",
       "      <th>medal</th>\n",
       "      <th>country</th>\n",
       "      <th>country_code</th>\n",
       "      <th>team</th>\n",
       "      <th>name</th>\n",
       "      <th>gender</th>\n",
       "      <th>measurements</th>\n",
       "      <th>born</th>\n",
       "      <th>died</th>\n",
       "      <th>affiliations</th>\n",
       "      <th>year</th>\n",
       "      <th>city</th>\n",
       "      <th>opened</th>\n",
       "      <th>closed</th>\n",
       "    </tr>\n",
       "  </thead>\n",
       "  <tbody>\n",
       "    <tr>\n",
       "      <th>15473</th>\n",
       "      <td>102871</td>\n",
       "      <td>summer</td>\n",
       "      <td>Archery</td>\n",
       "      <td>Individual, Men</td>\n",
       "      <td>29</td>\n",
       "      <td>NaN</td>\n",
       "      <td>Greece</td>\n",
       "      <td>GRE</td>\n",
       "      <td>NaN</td>\n",
       "      <td>Alexandros•Karageorgiou</td>\n",
       "      <td>male</td>\n",
       "      <td>172 cm / 58 kg</td>\n",
       "      <td>1986-06-03</td>\n",
       "      <td>NaN</td>\n",
       "      <td>Aristotle University Alumni Archery Club, Thes...</td>\n",
       "      <td>1896.0</td>\n",
       "      <td>Athina</td>\n",
       "      <td>1896-04-06</td>\n",
       "      <td>1896-04-15</td>\n",
       "    </tr>\n",
       "    <tr>\n",
       "      <th>15469</th>\n",
       "      <td>102870</td>\n",
       "      <td>summer</td>\n",
       "      <td>Archery</td>\n",
       "      <td>Individual, Men</td>\n",
       "      <td>54</td>\n",
       "      <td>NaN</td>\n",
       "      <td>Greece</td>\n",
       "      <td>GRE</td>\n",
       "      <td>NaN</td>\n",
       "      <td>Georgios•Kalogiannidis</td>\n",
       "      <td>male</td>\n",
       "      <td>180 cm / 73 kg</td>\n",
       "      <td>1982-11-21</td>\n",
       "      <td>NaN</td>\n",
       "      <td>Aristotle University Alumni Archery Club, Thes...</td>\n",
       "      <td>1896.0</td>\n",
       "      <td>Athina</td>\n",
       "      <td>1896-04-06</td>\n",
       "      <td>1896-04-15</td>\n",
       "    </tr>\n",
       "    <tr>\n",
       "      <th>15477</th>\n",
       "      <td>102872</td>\n",
       "      <td>summer</td>\n",
       "      <td>Archery</td>\n",
       "      <td>Individual, Men</td>\n",
       "      <td>57</td>\n",
       "      <td>NaN</td>\n",
       "      <td>Greece</td>\n",
       "      <td>GRE</td>\n",
       "      <td>NaN</td>\n",
       "      <td>Apostolos•Nanos</td>\n",
       "      <td>male</td>\n",
       "      <td>183 cm / 85 kg</td>\n",
       "      <td>1966-02-05</td>\n",
       "      <td>NaN</td>\n",
       "      <td>NaN</td>\n",
       "      <td>1896.0</td>\n",
       "      <td>Athina</td>\n",
       "      <td>1896-04-06</td>\n",
       "      <td>1896-04-15</td>\n",
       "    </tr>\n",
       "    <tr>\n",
       "      <th>10176</th>\n",
       "      <td>80496</td>\n",
       "      <td>summer</td>\n",
       "      <td>Archery</td>\n",
       "      <td>Individual, Women</td>\n",
       "      <td>7</td>\n",
       "      <td>NaN</td>\n",
       "      <td>Greece</td>\n",
       "      <td>GRE</td>\n",
       "      <td>NaN</td>\n",
       "      <td>Evangelia•Psarra</td>\n",
       "      <td>female</td>\n",
       "      <td>172 cm / 63 kg</td>\n",
       "      <td>1974-06-17</td>\n",
       "      <td>NaN</td>\n",
       "      <td>Aristtotle University Alumni Archery Club, The...</td>\n",
       "      <td>1896.0</td>\n",
       "      <td>Athina</td>\n",
       "      <td>1896-04-06</td>\n",
       "      <td>1896-04-15</td>\n",
       "    </tr>\n",
       "    <tr>\n",
       "      <th>38189</th>\n",
       "      <td>102837</td>\n",
       "      <td>summer</td>\n",
       "      <td>Archery</td>\n",
       "      <td>Individual, Women</td>\n",
       "      <td>11</td>\n",
       "      <td>NaN</td>\n",
       "      <td>Greece</td>\n",
       "      <td>GRE</td>\n",
       "      <td>NaN</td>\n",
       "      <td>Elpida•Romantzi</td>\n",
       "      <td>female</td>\n",
       "      <td>167 cm / 53 kg</td>\n",
       "      <td>1981-07-17</td>\n",
       "      <td>NaN</td>\n",
       "      <td>Aristotle University Alumni Archery Club, Thes...</td>\n",
       "      <td>1896.0</td>\n",
       "      <td>Athina</td>\n",
       "      <td>1896-04-06</td>\n",
       "      <td>1896-04-15</td>\n",
       "    </tr>\n",
       "  </tbody>\n",
       "</table>\n",
       "</div>"
      ],
      "text/plain": [
       "      athlete_id  season    sport              event position medal country  \\\n",
       "15473     102871  summer  Archery    Individual, Men       29   NaN  Greece   \n",
       "15469     102870  summer  Archery    Individual, Men       54   NaN  Greece   \n",
       "15477     102872  summer  Archery    Individual, Men       57   NaN  Greece   \n",
       "10176      80496  summer  Archery  Individual, Women        7   NaN  Greece   \n",
       "38189     102837  summer  Archery  Individual, Women       11   NaN  Greece   \n",
       "\n",
       "      country_code team                     name  gender    measurements  \\\n",
       "15473          GRE  NaN  Alexandros•Karageorgiou    male  172 cm / 58 kg   \n",
       "15469          GRE  NaN   Georgios•Kalogiannidis    male  180 cm / 73 kg   \n",
       "15477          GRE  NaN          Apostolos•Nanos    male  183 cm / 85 kg   \n",
       "10176          GRE  NaN         Evangelia•Psarra  female  172 cm / 63 kg   \n",
       "38189          GRE  NaN          Elpida•Romantzi  female  167 cm / 53 kg   \n",
       "\n",
       "             born died                                       affiliations  \\\n",
       "15473  1986-06-03  NaN  Aristotle University Alumni Archery Club, Thes...   \n",
       "15469  1982-11-21  NaN  Aristotle University Alumni Archery Club, Thes...   \n",
       "15477  1966-02-05  NaN                                                NaN   \n",
       "10176  1974-06-17  NaN  Aristtotle University Alumni Archery Club, The...   \n",
       "38189  1981-07-17  NaN  Aristotle University Alumni Archery Club, Thes...   \n",
       "\n",
       "         year    city      opened      closed  \n",
       "15473  1896.0  Athina  1896-04-06  1896-04-15  \n",
       "15469  1896.0  Athina  1896-04-06  1896-04-15  \n",
       "15477  1896.0  Athina  1896-04-06  1896-04-15  \n",
       "10176  1896.0  Athina  1896-04-06  1896-04-15  \n",
       "38189  1896.0  Athina  1896-04-06  1896-04-15  "
      ]
     },
     "execution_count": 124,
     "metadata": {},
     "output_type": "execute_result"
    }
   ],
   "source": [
    "df.head()"
   ]
  },
  {
   "cell_type": "code",
   "execution_count": 125,
   "metadata": {},
   "outputs": [],
   "source": [
    "df['Name'] = df['name'].str.split('•',n=1, expand=True)[0]\n",
    "df['Surname'] = df['name'].str.split('•',n=1, expand=True)[1]\n",
    "df.drop(columns=['name'], inplace=True)"
   ]
  },
  {
   "cell_type": "code",
   "execution_count": 126,
   "metadata": {},
   "outputs": [
    {
     "data": {
      "text/plain": [
       "Surname\n",
       "Smith       26\n",
       "Thomas      12\n",
       "Halsall     11\n",
       "Murray      11\n",
       "Jackson     11\n",
       "Williams    10\n",
       "Tweddle     10\n",
       "Clark       10\n",
       "Turner       8\n",
       "Cook         8\n",
       "Name: count, dtype: int64"
      ]
     },
     "execution_count": 126,
     "metadata": {},
     "output_type": "execute_result"
    }
   ],
   "source": [
    "df_2012 = df[df['year'] == 2012]\n",
    "df_2012['Surname'].value_counts().head(10)\n"
   ]
  },
  {
   "cell_type": "markdown",
   "metadata": {},
   "source": [
    "**Answer: Most Common Surname for olympic games of 2012 is Smith and it occurs 26 times.**\n"
   ]
  },
  {
   "cell_type": "markdown",
   "metadata": {},
   "source": [
    "### Exercise 2.2\n",
    "\n",
    "**Which woman won the Gold medal in the 100 meters race of the 2012 olympic games?**\n"
   ]
  },
  {
   "cell_type": "code",
   "execution_count": 127,
   "metadata": {},
   "outputs": [
    {
     "data": {
      "text/plain": [
       "15463                  Individual, Men\n",
       "42477                  Individual, Men\n",
       "38202                  Individual, Men\n",
       "35317                  Individual, Men\n",
       "62082                  Individual, Men\n",
       "                     ...              \n",
       "72973          Middle-Heavyweight, Men\n",
       "72977                Middleweight, Men\n",
       "38757              Middleweight, Women\n",
       "81228    Lightweight, Freestyle, Women\n",
       "25695     Middleweight, Freestyle, Men\n",
       "Name: event, Length: 1444, dtype: object"
      ]
     },
     "execution_count": 127,
     "metadata": {},
     "output_type": "execute_result"
    }
   ],
   "source": [
    "df_2012['event']"
   ]
  },
  {
   "cell_type": "code",
   "execution_count": 128,
   "metadata": {},
   "outputs": [
    {
     "data": {
      "text/html": [
       "<div>\n",
       "<style scoped>\n",
       "    .dataframe tbody tr th:only-of-type {\n",
       "        vertical-align: middle;\n",
       "    }\n",
       "\n",
       "    .dataframe tbody tr th {\n",
       "        vertical-align: top;\n",
       "    }\n",
       "\n",
       "    .dataframe thead th {\n",
       "        text-align: right;\n",
       "    }\n",
       "</style>\n",
       "<table border=\"1\" class=\"dataframe\">\n",
       "  <thead>\n",
       "    <tr style=\"text-align: right;\">\n",
       "      <th></th>\n",
       "      <th>athlete_id</th>\n",
       "      <th>season</th>\n",
       "      <th>sport</th>\n",
       "      <th>event</th>\n",
       "      <th>position</th>\n",
       "      <th>medal</th>\n",
       "      <th>country</th>\n",
       "      <th>country_code</th>\n",
       "      <th>team</th>\n",
       "      <th>gender</th>\n",
       "      <th>measurements</th>\n",
       "      <th>born</th>\n",
       "      <th>died</th>\n",
       "      <th>affiliations</th>\n",
       "      <th>year</th>\n",
       "      <th>city</th>\n",
       "      <th>opened</th>\n",
       "      <th>closed</th>\n",
       "      <th>Name</th>\n",
       "      <th>Surname</th>\n",
       "    </tr>\n",
       "  </thead>\n",
       "  <tbody>\n",
       "  </tbody>\n",
       "</table>\n",
       "</div>"
      ],
      "text/plain": [
       "Empty DataFrame\n",
       "Columns: [athlete_id, season, sport, event, position, medal, country, country_code, team, gender, measurements, born, died, affiliations, year, city, opened, closed, Name, Surname]\n",
       "Index: []"
      ]
     },
     "execution_count": 128,
     "metadata": {},
     "output_type": "execute_result"
    }
   ],
   "source": [
    "df_2012[(df_2012['event'] == '100 metres, Women')  & (df_2012['medal']=='Gold')]"
   ]
  },
  {
   "cell_type": "markdown",
   "metadata": {},
   "source": [
    "**Answer: Nobody got Gold Medal**\n"
   ]
  },
  {
   "cell_type": "markdown",
   "metadata": {},
   "source": [
    "### Exercise 2.3\n",
    "\n",
    "**Which athlete has won the largest number of gold medals (in all years covered by the dataset), considering only athletes from the following countries: “Jamaica”, “Trinidad and Tobago”, “Bar-bados”, “Grenada”, “Saint Kitts and Nevis”?**\n"
   ]
  },
  {
   "cell_type": "code",
   "execution_count": 129,
   "metadata": {},
   "outputs": [
    {
     "data": {
      "text/plain": [
       "array(['Greece', 'France', 'United States', 'Great Britain', 'Sweden',\n",
       "       'Germany', 'Belgium', 'Switzerland', 'Finland', 'Italy', 'Norway',\n",
       "       'Australia', 'Austria', 'Japan', 'Mexico', 'Canada',\n",
       "       'Republic of Korea', 'Spain', \"People's Republic of China\",\n",
       "       'Russian Federation', 'Brazil', 'Croatia', 'Czech Republic',\n",
       "       'Slovenia', 'Bulgaria', 'Argentina', 'Slovakia', 'Ukraine',\n",
       "       'Andorra', 'Liechtenstein', 'Kazakhstan', 'Romania', 'Ireland',\n",
       "       'South Africa', 'Bosnia and Herzegovina', 'Latvia', 'Iceland',\n",
       "       'Poland', 'Chile', 'Monaco', 'Hungary', 'Lebanon',\n",
       "       'Serbia and Montenegro', 'Tajikistan', 'Denmark', 'Algeria',\n",
       "       'Georgia', 'Israel', 'Cyprus', 'Albania',\n",
       "       'Islamic Republic of Iran', 'Madagascar', 'Kyrgyzstan',\n",
       "       'Republic of Moldova', 'New Zealand', 'North Macedonia', 'Fiji',\n",
       "       'San Marino', 'Lithuania', 'Montenegro', 'Estonia', 'Peru',\n",
       "       'Cayman Islands', 'Azerbaijan', 'Senegal', 'Morocco', 'Uzbekistan',\n",
       "       'Pakistan', 'India', 'Turkey', 'Armenia', 'Serbia', 'Belarus',\n",
       "       'Colombia', 'Ghana', 'Cuba', 'Chinese Taipei', 'Malaysia',\n",
       "       'Bhutan', 'El Salvador', 'Myanmar', 'Indonesia', 'Portugal',\n",
       "       'Qatar', 'Philippines', 'Luxembourg', 'Egypt', 'Tonga',\n",
       "       'Mauritius', \"Lao People's Democratic Republic\", 'Samoa',\n",
       "       'Bangladesh', 'Thailand', 'Mongolia', 'Venezuela',\n",
       "       'Hong Kong, China', \"Côte d'Ivoire\",\n",
       "       \"Democratic People's Republic of Korea\", 'Iraq', 'Bolivia',\n",
       "       'Vietnam', 'Singapore', 'Guatemala', 'Puerto Rico', 'Tunisia',\n",
       "       'Yemen', 'Dominican Republic', 'Kenya', 'Bahrain', 'Ethiopia',\n",
       "       'Equatorial Guinea', 'Guam', 'Brunei Darussalam',\n",
       "       'United Republic of Tanzania', 'Ecuador', 'Eritrea',\n",
       "       'Kingdom of Saudi Arabia', 'Eswatini', 'Sudan', 'Djibouti',\n",
       "       'Malawi', 'Somalia', 'Guinea', 'Niger', 'Uruguay', 'Nepal',\n",
       "       'Namibia', 'Guinea Bissau', 'Democratic Republic of the Congo',\n",
       "       'Uganda', 'United Arab Emirates', 'Rwanda', 'Zimbabwe', 'Jamaica',\n",
       "       'Central African Republic', 'Haiti', 'Seychelles',\n",
       "       'Syrian Arab Republic', 'Nigeria', 'Honduras',\n",
       "       'Trinidad and Tobago', 'Mozambique', 'The Bahamas',\n",
       "       'São Tomé and Príncipe', 'Burkina Faso', 'Mali', 'Benin',\n",
       "       'Netherlands Antilles', 'Saint Kitts and Nevis', 'Barbados',\n",
       "       'Comoros', 'American Samoa', 'Malta', 'Jordan', 'Kiribati',\n",
       "       'Maldives', 'Paraguay', 'Aruba', 'Afghanistan', 'The Gambia',\n",
       "       'United States Virgin Islands', 'Cook Islands',\n",
       "       'Federated States of Micronesia', 'Sierra Leone', 'Cambodia',\n",
       "       'Solomon Islands', 'Antigua and Barbuda', 'Nicaragua', 'Bermuda',\n",
       "       'Gabon', 'Chad', 'Vanuatu', 'Suriname', 'Marshall Islands',\n",
       "       'Saint Vincent and the Grenadines', 'Congo', 'Oman', 'Palau',\n",
       "       'Tuvalu', 'Grenada', 'Guyana', 'Cameroon', 'Zambia',\n",
       "       'British Virgin Islands', 'Kuwait', 'Mauritania',\n",
       "       'Papua New Guinea', 'Palestine', 'Turkmenistan', 'Togo', 'Libya',\n",
       "       'Belize', 'Cape Verde', 'Liberia', 'Costa Rica', 'Dominica',\n",
       "       'Botswana', 'Lesotho', 'Panama', 'Sri Lanka',\n",
       "       'Individual Olympic Athletes', 'Burundi', 'Angola', 'Saint Lucia',\n",
       "       'Timor-Leste', 'Nauru', 'country'], dtype=object)"
      ]
     },
     "execution_count": 129,
     "metadata": {},
     "output_type": "execute_result"
    }
   ],
   "source": [
    "df['country'].unique()"
   ]
  },
  {
   "cell_type": "code",
   "execution_count": null,
   "metadata": {},
   "outputs": [
    {
     "data": {
      "text/plain": [
       "Series([], Name: medal, dtype: int64)"
      ]
     },
     "execution_count": 133,
     "metadata": {},
     "output_type": "execute_result"
    }
   ],
   "source": [
    "df_gold = df[(df['country'].isin(l)) & df['medal'] == 'Gold' ]\n",
    "df_gold.groupby('athlete_id')['medal'].count().sort_values(ascending=False)"
   ]
  },
  {
   "cell_type": "code",
   "execution_count": 130,
   "metadata": {},
   "outputs": [
    {
     "name": "stdout",
     "output_type": "stream",
     "text": [
      "Jamaica\n",
      "Trinidad and Tobago\n",
      "Barbados\n",
      "Grenada\n",
      "Saint Kitts and Nevis\n"
     ]
    },
    {
     "data": {
      "text/plain": [
       "' \\nchecking because barbados was written as bar-bados in the dataset \\n'"
      ]
     },
     "execution_count": 130,
     "metadata": {},
     "output_type": "execute_result"
    }
   ],
   "source": [
    "l = ['Jamaica', 'Trinidad and Tobago', 'Barbados', 'Grenada', 'Saint Kitts and Nevis']\n",
    "for c in l:\n",
    "    if c in df['country'].unique():\n",
    "        print(c)\n",
    "    else:\n",
    "        print(f\"{c} not in df_2012['country'].unique()\")\n",
    "\n",
    "\"\"\" \n",
    "checking because barbados was written as bar-bados in the dataset \n",
    "\"\"\""
   ]
  },
  {
   "cell_type": "markdown",
   "metadata": {},
   "source": [
    "**Answer: Nobody got Gold Medal from this countries**\n"
   ]
  },
  {
   "cell_type": "markdown",
   "metadata": {},
   "source": [
    "### Exercise 2.4\n",
    "\n",
    "**What was the best position, worst position, median position achieved by athletes from “Mongolia”?**\n"
   ]
  },
  {
   "cell_type": "code",
   "execution_count": 161,
   "metadata": {},
   "outputs": [],
   "source": [
    "df_temp = df[df['country'] == 'Mongolia']['position']"
   ]
  },
  {
   "cell_type": "code",
   "execution_count": null,
   "metadata": {},
   "outputs": [
    {
     "name": "stdout",
     "output_type": "stream",
     "text": [
      "74037    33.0\n",
      "74036     9.0\n",
      "48460     NaN\n",
      "41340    52.0\n",
      "26004    75.0\n",
      "         ... \n",
      "52257    10.0\n",
      "75377     3.0\n",
      "25760    12.0\n",
      "75199     5.0\n",
      "52323     8.0\n",
      "Name: position, Length: 92, dtype: float64 \n",
      " <class 'pandas.core.series.Series'>\n",
      "Best position: 1.0\n",
      "Worst position: 98.0\n",
      "Median position: 13.0\n"
     ]
    }
   ],
   "source": [
    "df_temp = pd.to_numeric(df_temp, errors='coerce')\n",
    "\n",
    "best_position = df_temp.min()\n",
    "worst_position = df_temp.max()\n",
    "median_position = df_temp.median()\n",
    "\n",
    "print(f\"Best position: {best_position}\")\n",
    "print(f\"Worst position: {worst_position}\")\n",
    "print(f\"Median position: {median_position}\")"
   ]
  },
  {
   "cell_type": "markdown",
   "metadata": {},
   "source": [
    "**Answer: For Mongolia Best position: 1.0 Worst position: 98.0 Median position: 13.0**\n"
   ]
  }
 ],
 "metadata": {
  "kernelspec": {
   "display_name": ".venv",
   "language": "python",
   "name": "python3"
  },
  "language_info": {
   "codemirror_mode": {
    "name": "ipython",
    "version": 3
   },
   "file_extension": ".py",
   "mimetype": "text/x-python",
   "name": "python",
   "nbconvert_exporter": "python",
   "pygments_lexer": "ipython3",
   "version": "3.10.12"
  }
 },
 "nbformat": 4,
 "nbformat_minor": 2
}
